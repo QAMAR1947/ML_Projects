{
 "cells": [
  {
   "cell_type": "markdown",
   "metadata": {},
   "source": [
    "# Spotify Song Recommendation System"
   ]
  },
  {
   "cell_type": "markdown",
   "metadata": {},
   "source": [
    "## Importing librarires"
   ]
  },
  {
   "cell_type": "code",
   "execution_count": 82,
   "metadata": {},
   "outputs": [],
   "source": [
    "import pandas as pd"
   ]
  },
  {
   "cell_type": "markdown",
   "metadata": {},
   "source": [
    "## Loading dataset"
   ]
  },
  {
   "cell_type": "code",
   "execution_count": 83,
   "metadata": {},
   "outputs": [
    {
     "data": {
      "text/html": [
       "<div>\n",
       "<style scoped>\n",
       "    .dataframe tbody tr th:only-of-type {\n",
       "        vertical-align: middle;\n",
       "    }\n",
       "\n",
       "    .dataframe tbody tr th {\n",
       "        vertical-align: top;\n",
       "    }\n",
       "\n",
       "    .dataframe thead th {\n",
       "        text-align: right;\n",
       "    }\n",
       "</style>\n",
       "<table border=\"1\" class=\"dataframe\">\n",
       "  <thead>\n",
       "    <tr style=\"text-align: right;\">\n",
       "      <th></th>\n",
       "      <th>artist</th>\n",
       "      <th>song</th>\n",
       "      <th>link</th>\n",
       "      <th>text</th>\n",
       "    </tr>\n",
       "  </thead>\n",
       "  <tbody>\n",
       "    <tr>\n",
       "      <th>0</th>\n",
       "      <td>ABBA</td>\n",
       "      <td>Ahe's My Kind Of Girl</td>\n",
       "      <td>/a/abba/ahes+my+kind+of+girl_20598417.html</td>\n",
       "      <td>Look at her face, it's a wonderful face  \\r\\nA...</td>\n",
       "    </tr>\n",
       "    <tr>\n",
       "      <th>1</th>\n",
       "      <td>ABBA</td>\n",
       "      <td>Andante, Andante</td>\n",
       "      <td>/a/abba/andante+andante_20002708.html</td>\n",
       "      <td>Take it easy with me, please  \\r\\nTouch me gen...</td>\n",
       "    </tr>\n",
       "    <tr>\n",
       "      <th>2</th>\n",
       "      <td>ABBA</td>\n",
       "      <td>As Good As New</td>\n",
       "      <td>/a/abba/as+good+as+new_20003033.html</td>\n",
       "      <td>I'll never know why I had to go  \\r\\nWhy I had...</td>\n",
       "    </tr>\n",
       "    <tr>\n",
       "      <th>3</th>\n",
       "      <td>ABBA</td>\n",
       "      <td>Bang</td>\n",
       "      <td>/a/abba/bang_20598415.html</td>\n",
       "      <td>Making somebody happy is a question of give an...</td>\n",
       "    </tr>\n",
       "    <tr>\n",
       "      <th>4</th>\n",
       "      <td>ABBA</td>\n",
       "      <td>Bang-A-Boomerang</td>\n",
       "      <td>/a/abba/bang+a+boomerang_20002668.html</td>\n",
       "      <td>Making somebody happy is a question of give an...</td>\n",
       "    </tr>\n",
       "  </tbody>\n",
       "</table>\n",
       "</div>"
      ],
      "text/plain": [
       "  artist                   song                                        link  \\\n",
       "0   ABBA  Ahe's My Kind Of Girl  /a/abba/ahes+my+kind+of+girl_20598417.html   \n",
       "1   ABBA       Andante, Andante       /a/abba/andante+andante_20002708.html   \n",
       "2   ABBA         As Good As New        /a/abba/as+good+as+new_20003033.html   \n",
       "3   ABBA                   Bang                  /a/abba/bang_20598415.html   \n",
       "4   ABBA       Bang-A-Boomerang      /a/abba/bang+a+boomerang_20002668.html   \n",
       "\n",
       "                                                text  \n",
       "0  Look at her face, it's a wonderful face  \\r\\nA...  \n",
       "1  Take it easy with me, please  \\r\\nTouch me gen...  \n",
       "2  I'll never know why I had to go  \\r\\nWhy I had...  \n",
       "3  Making somebody happy is a question of give an...  \n",
       "4  Making somebody happy is a question of give an...  "
      ]
     },
     "execution_count": 83,
     "metadata": {},
     "output_type": "execute_result"
    }
   ],
   "source": [
    "df = pd.read_csv('spotify_millsongdata.csv')\n",
    "df.head()"
   ]
  },
  {
   "cell_type": "markdown",
   "metadata": {},
   "source": [
    "## Data Exploration"
   ]
  },
  {
   "cell_type": "code",
   "execution_count": 84,
   "metadata": {},
   "outputs": [
    {
     "data": {
      "text/plain": [
       "(57650, 4)"
      ]
     },
     "execution_count": 84,
     "metadata": {},
     "output_type": "execute_result"
    }
   ],
   "source": [
    "df.shape"
   ]
  },
  {
   "cell_type": "code",
   "execution_count": 85,
   "metadata": {},
   "outputs": [
    {
     "data": {
      "text/plain": [
       "artist    0\n",
       "song      0\n",
       "link      0\n",
       "text      0\n",
       "dtype: int64"
      ]
     },
     "execution_count": 85,
     "metadata": {},
     "output_type": "execute_result"
    }
   ],
   "source": [
    "df.isnull().sum()"
   ]
  },
  {
   "cell_type": "code",
   "execution_count": 86,
   "metadata": {},
   "outputs": [
    {
     "data": {
      "text/plain": [
       "(5000, 3)"
      ]
     },
     "execution_count": 86,
     "metadata": {},
     "output_type": "execute_result"
    }
   ],
   "source": [
    "df = df.sample(5000).drop('link', axis=1).reset_index(drop=True)\n",
    "df.shape"
   ]
  },
  {
   "cell_type": "code",
   "execution_count": 87,
   "metadata": {},
   "outputs": [
    {
     "data": {
      "text/html": [
       "<div>\n",
       "<style scoped>\n",
       "    .dataframe tbody tr th:only-of-type {\n",
       "        vertical-align: middle;\n",
       "    }\n",
       "\n",
       "    .dataframe tbody tr th {\n",
       "        vertical-align: top;\n",
       "    }\n",
       "\n",
       "    .dataframe thead th {\n",
       "        text-align: right;\n",
       "    }\n",
       "</style>\n",
       "<table border=\"1\" class=\"dataframe\">\n",
       "  <thead>\n",
       "    <tr style=\"text-align: right;\">\n",
       "      <th></th>\n",
       "      <th>artist</th>\n",
       "      <th>song</th>\n",
       "      <th>text</th>\n",
       "    </tr>\n",
       "  </thead>\n",
       "  <tbody>\n",
       "    <tr>\n",
       "      <th>0</th>\n",
       "      <td>INXS</td>\n",
       "      <td>Make Your Peace</td>\n",
       "      <td>There are rivers running  \\r\\nJust for you and...</td>\n",
       "    </tr>\n",
       "    <tr>\n",
       "      <th>1</th>\n",
       "      <td>Conway Twitty</td>\n",
       "      <td>Happy Birthday Darlin'</td>\n",
       "      <td>Hello darlin' happy birthday  \\r\\nI've decided...</td>\n",
       "    </tr>\n",
       "    <tr>\n",
       "      <th>2</th>\n",
       "      <td>Keith Urban</td>\n",
       "      <td>Til' Summer Comes Around</td>\n",
       "      <td>Another long summer's come and gone  \\r\\nI don...</td>\n",
       "    </tr>\n",
       "    <tr>\n",
       "      <th>3</th>\n",
       "      <td>Ella Fitzgerald</td>\n",
       "      <td>A Fine Romance</td>\n",
       "      <td>A fine romance, with no kisses  \\r\\nA fine rom...</td>\n",
       "    </tr>\n",
       "    <tr>\n",
       "      <th>4</th>\n",
       "      <td>Gordon Lightfoot</td>\n",
       "      <td>Looking At The Rain</td>\n",
       "      <td>Looking at the rain  \\r\\nFeeling the pain  \\r\\...</td>\n",
       "    </tr>\n",
       "  </tbody>\n",
       "</table>\n",
       "</div>"
      ],
      "text/plain": [
       "             artist                      song  \\\n",
       "0              INXS           Make Your Peace   \n",
       "1     Conway Twitty    Happy Birthday Darlin'   \n",
       "2       Keith Urban  Til' Summer Comes Around   \n",
       "3   Ella Fitzgerald            A Fine Romance   \n",
       "4  Gordon Lightfoot       Looking At The Rain   \n",
       "\n",
       "                                                text  \n",
       "0  There are rivers running  \\r\\nJust for you and...  \n",
       "1  Hello darlin' happy birthday  \\r\\nI've decided...  \n",
       "2  Another long summer's come and gone  \\r\\nI don...  \n",
       "3  A fine romance, with no kisses  \\r\\nA fine rom...  \n",
       "4  Looking at the rain  \\r\\nFeeling the pain  \\r\\...  "
      ]
     },
     "execution_count": 87,
     "metadata": {},
     "output_type": "execute_result"
    }
   ],
   "source": [
    "df.head()"
   ]
  },
  {
   "cell_type": "code",
   "execution_count": 88,
   "metadata": {},
   "outputs": [
    {
     "data": {
      "text/plain": [
       "\"There are rivers running  \\r\\nJust for you and me  \\r\\nIn the darkest hours  \\r\\nChoices made to be  \\r\\nI choose to pull my punches  \\r\\nDon't you test my conscience  \\r\\nYou'll see  \\r\\nYou'll see  \\r\\nCut your teeth and make your peace  \\r\\nThat's what you asked for  \\r\\n  \\r\\nGot a way of getting  \\r\\nWhat I want to see  \\r\\nWhen you know I'm winning  \\r\\nYou'll get over me  \\r\\nAll the trash you're thinking  \\r\\nDon't you feel it sinking  \\r\\nYou'll see  \\r\\nYou'll see  \\r\\n  \\r\\nAll this bitter fighting  \\r\\nMakes no sense to me  \\r\\nWe're only talking circles  \\r\\nWe're losing sympathy  \\r\\nNo time like the future  \\r\\nMake signs like I need ya  \\r\\nYou see  \\r\\nYou see  \\r\\n  \\r\\nCut your teeth and make your peace  \\r\\nThat's what you ask for  \\r\\nCut your teeth and make your peace  \\r\\nIs what you ask for\\r\\n\\r\\n\""
      ]
     },
     "execution_count": 88,
     "metadata": {},
     "output_type": "execute_result"
    }
   ],
   "source": [
    "df['text'][0]"
   ]
  },
  {
   "cell_type": "markdown",
   "metadata": {},
   "source": [
    "## Text Preprocessing"
   ]
  },
  {
   "cell_type": "code",
   "execution_count": 113,
   "metadata": {},
   "outputs": [
    {
     "data": {
      "text/plain": [
       "0       there are rivers running  \\r just for you and ...\n",
       "1       hello darlin' happy birthday  \\r i've decided ...\n",
       "2       another long summer's come and gone  \\r i don'...\n",
       "3       a fine romance, with no kisses  \\r a fine roma...\n",
       "4       looking at the rain  \\r feeling the pain  \\r o...\n",
       "                              ...                        \n",
       "4995    raymond versus raymond  \\r   \\r there's three ...\n",
       "4996    will i live tomorrow?  \\r well i just can't sa...\n",
       "4997    every now and then we find a special friend  \\...\n",
       "4998    have you heard? the coast of maine just got ca...\n",
       "4999    [verse 1]  \\r i'm like a child looking off in ...\n",
       "Name: text, Length: 5000, dtype: object"
      ]
     },
     "execution_count": 113,
     "metadata": {},
     "output_type": "execute_result"
    }
   ],
   "source": [
    "df['text'] = df['text'].str.lower().replace(r'^\\w\\s', ' ').replace(r'\\n', ' ', regex=True)\n",
    "df['text']"
   ]
  },
  {
   "cell_type": "code",
   "execution_count": 90,
   "metadata": {},
   "outputs": [
    {
     "data": {
      "text/html": [
       "<div>\n",
       "<style scoped>\n",
       "    .dataframe tbody tr th:only-of-type {\n",
       "        vertical-align: middle;\n",
       "    }\n",
       "\n",
       "    .dataframe tbody tr th {\n",
       "        vertical-align: top;\n",
       "    }\n",
       "\n",
       "    .dataframe thead th {\n",
       "        text-align: right;\n",
       "    }\n",
       "</style>\n",
       "<table border=\"1\" class=\"dataframe\">\n",
       "  <thead>\n",
       "    <tr style=\"text-align: right;\">\n",
       "      <th></th>\n",
       "      <th>artist</th>\n",
       "      <th>song</th>\n",
       "      <th>text</th>\n",
       "    </tr>\n",
       "  </thead>\n",
       "  <tbody>\n",
       "    <tr>\n",
       "      <th>4995</th>\n",
       "      <td>Usher</td>\n",
       "      <td>Monstar</td>\n",
       "      <td>raymond versus raymond  \\r   \\r there's three ...</td>\n",
       "    </tr>\n",
       "    <tr>\n",
       "      <th>4996</th>\n",
       "      <td>Jimi Hendrix</td>\n",
       "      <td>I Don't Live Today</td>\n",
       "      <td>will i live tomorrow?  \\r well i just can't sa...</td>\n",
       "    </tr>\n",
       "    <tr>\n",
       "      <th>4997</th>\n",
       "      <td>Jennifer Lopez</td>\n",
       "      <td>Remember Me This Way</td>\n",
       "      <td>every now and then we find a special friend  \\...</td>\n",
       "    </tr>\n",
       "    <tr>\n",
       "      <th>4998</th>\n",
       "      <td>Cole Porter</td>\n",
       "      <td>Well Did You Evah!</td>\n",
       "      <td>have you heard? the coast of maine just got ca...</td>\n",
       "    </tr>\n",
       "    <tr>\n",
       "      <th>4999</th>\n",
       "      <td>Green Day</td>\n",
       "      <td>Still Breathing</td>\n",
       "      <td>[verse 1]  \\r i'm like a child looking off in ...</td>\n",
       "    </tr>\n",
       "  </tbody>\n",
       "</table>\n",
       "</div>"
      ],
      "text/plain": [
       "              artist                  song  \\\n",
       "4995           Usher               Monstar   \n",
       "4996    Jimi Hendrix    I Don't Live Today   \n",
       "4997  Jennifer Lopez  Remember Me This Way   \n",
       "4998     Cole Porter    Well Did You Evah!   \n",
       "4999       Green Day       Still Breathing   \n",
       "\n",
       "                                                   text  \n",
       "4995  raymond versus raymond  \\r   \\r there's three ...  \n",
       "4996  will i live tomorrow?  \\r well i just can't sa...  \n",
       "4997  every now and then we find a special friend  \\...  \n",
       "4998  have you heard? the coast of maine just got ca...  \n",
       "4999  [verse 1]  \\r i'm like a child looking off in ...  "
      ]
     },
     "execution_count": 90,
     "metadata": {},
     "output_type": "execute_result"
    }
   ],
   "source": [
    "df.tail()"
   ]
  },
  {
   "cell_type": "markdown",
   "metadata": {},
   "source": [
    "### Tokenization"
   ]
  },
  {
   "cell_type": "code",
   "execution_count": 91,
   "metadata": {},
   "outputs": [
    {
     "name": "stderr",
     "output_type": "stream",
     "text": [
      "[nltk_data] Downloading package punkt to\n",
      "[nltk_data]     C:\\Users\\PMLS\\AppData\\Roaming\\nltk_data...\n",
      "[nltk_data]   Package punkt is already up-to-date!\n"
     ]
    }
   ],
   "source": [
    "import nltk\n",
    "from nltk.tokenize import word_tokenize\n",
    "from nltk.stem import PorterStemmer\n",
    "\n",
    "# Ensure the punkt tokenizer is downloaded\n",
    "nltk.download('punkt')\n",
    "\n",
    "# Initialize the stemmer\n",
    "stemmer = PorterStemmer()\n",
    "\n",
    "# Define the token function\n",
    "def token(txt):\n",
    "    tokens = word_tokenize(txt)\n",
    "    a = [stemmer.stem(w) for w in tokens]\n",
    "    return \"  \".join(a)\n"
   ]
  },
  {
   "cell_type": "code",
   "execution_count": 92,
   "metadata": {},
   "outputs": [
    {
     "data": {
      "text/plain": [
       "'you  are  beauti  ,  beauti'"
      ]
     },
     "execution_count": 92,
     "metadata": {},
     "output_type": "execute_result"
    }
   ],
   "source": [
    "token(\"you are beautiful, beauty\")"
   ]
  },
  {
   "cell_type": "code",
   "execution_count": 93,
   "metadata": {},
   "outputs": [
    {
     "data": {
      "text/plain": [
       "0       there  are  river  run  just  for  you  and  m...\n",
       "1       hello  darlin  '  happi  birthday  i  've  dec...\n",
       "2       anoth  long  summer  's  come  and  gone  i  d...\n",
       "3       a  fine  romanc  ,  with  no  kiss  a  fine  r...\n",
       "4       look  at  the  rain  feel  the  pain  of  love...\n",
       "                              ...                        \n",
       "4995    raymond  versu  raymond  there  's  three  sid...\n",
       "4996    will  i  live  tomorrow  ?  well  i  just  ca ...\n",
       "4997    everi  now  and  then  we  find  a  special  f...\n",
       "4998    have  you  heard  ?  the  coast  of  main  jus...\n",
       "4999    [  vers  1  ]  i  'm  like  a  child  look  of...\n",
       "Name: text, Length: 5000, dtype: object"
      ]
     },
     "execution_count": 93,
     "metadata": {},
     "output_type": "execute_result"
    }
   ],
   "source": [
    "df['text'].apply(lambda x:token(x))"
   ]
  },
  {
   "cell_type": "markdown",
   "metadata": {},
   "source": [
    "## Feature Extraction"
   ]
  },
  {
   "cell_type": "code",
   "execution_count": 94,
   "metadata": {},
   "outputs": [],
   "source": [
    "from sklearn.feature_extraction.text import TfidfVectorizer\n",
    "from sklearn.metrics.pairwise import cosine_similarity"
   ]
  },
  {
   "cell_type": "code",
   "execution_count": 95,
   "metadata": {},
   "outputs": [],
   "source": [
    "tfid = TfidfVectorizer(analyzer='word', stop_words='english')"
   ]
  },
  {
   "cell_type": "code",
   "execution_count": 96,
   "metadata": {},
   "outputs": [],
   "source": [
    "matrix = tfid.fit_transform(df['text'])"
   ]
  },
  {
   "cell_type": "markdown",
   "metadata": {},
   "source": [
    "- #### converting textual data into numerical so that we can apply ML algorithms"
   ]
  },
  {
   "cell_type": "code",
   "execution_count": 97,
   "metadata": {},
   "outputs": [],
   "source": [
    "similar = cosine_similarity(matrix)"
   ]
  },
  {
   "cell_type": "code",
   "execution_count": 98,
   "metadata": {},
   "outputs": [
    {
     "data": {
      "text/plain": [
       "array([1.        , 0.03538886, 0.01560048, ..., 0.11059804, 0.00536044,\n",
       "       0.03248334])"
      ]
     },
     "execution_count": 98,
     "metadata": {},
     "output_type": "execute_result"
    }
   ],
   "source": [
    "similar[0]"
   ]
  },
  {
   "cell_type": "code",
   "execution_count": 106,
   "metadata": {},
   "outputs": [
    {
     "data": {
      "text/plain": [
       "4996"
      ]
     },
     "execution_count": 106,
     "metadata": {},
     "output_type": "execute_result"
    }
   ],
   "source": [
    "df[df['song']==\"I Don't Live Today\"].index[0]"
   ]
  },
  {
   "cell_type": "markdown",
   "metadata": {},
   "source": [
    "## Building a Recommender Model"
   ]
  },
  {
   "cell_type": "code",
   "execution_count": 110,
   "metadata": {},
   "outputs": [],
   "source": [
    "def recommender(song_name):\n",
    "    # Check if the song exists in the DataFrame\n",
    "    if song_name not in df['song'].values:\n",
    "        return f\"Song '{song_name}' not found in the dataset.\"\n",
    "\n",
    "    # Get the index of the given song name\n",
    "    idx = df[df['song'] == song_name].index[0]\n",
    "    \n",
    "    # Compute the distance and sort\n",
    "    distance = sorted(list(enumerate(similar[idx])), reverse=True, key=lambda x: x[1])\n",
    "    \n",
    "    # Collect recommended songs\n",
    "    recommended_songs = []\n",
    "    for s_id in distance[1:6]:  # Get top 5 recommendations\n",
    "        recommended_songs.append(df.iloc[s_id[0]].song)\n",
    "    \n",
    "    return recommended_songs\n"
   ]
  },
  {
   "cell_type": "markdown",
   "metadata": {},
   "source": [
    "### Results"
   ]
  },
  {
   "cell_type": "code",
   "execution_count": 112,
   "metadata": {},
   "outputs": [
    {
     "name": "stdout",
     "output_type": "stream",
     "text": [
      "['Little Lover', \"I'll Be There For You\", 'Cry To Me', \"I Don't Want To Be Your Lover\", 'Lover Come Back To Me']\n"
     ]
    }
   ],
   "source": [
    "song_recommendation = recommender(\"Monstar\")\n",
    "print(song_recommendation)"
   ]
  }
 ],
 "metadata": {
  "kernelspec": {
   "display_name": "base",
   "language": "python",
   "name": "python3"
  },
  "language_info": {
   "codemirror_mode": {
    "name": "ipython",
    "version": 3
   },
   "file_extension": ".py",
   "mimetype": "text/x-python",
   "name": "python",
   "nbconvert_exporter": "python",
   "pygments_lexer": "ipython3",
   "version": "3.11.7"
  }
 },
 "nbformat": 4,
 "nbformat_minor": 2
}
